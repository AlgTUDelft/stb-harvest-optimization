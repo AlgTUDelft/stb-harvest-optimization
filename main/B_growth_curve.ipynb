{
 "cells": [
  {
   "cell_type": "markdown",
   "metadata": {},
   "source": [
    "# Prework"
   ]
  },
  {
   "cell_type": "markdown",
   "metadata": {},
   "source": [
    "The is the color feature generature code initially implemented for the Section 4.5, \"Evaluating Results from one Downstream Application: Growth Curve of Strawberries\", of the paper: Junhan Wen, Camiel R. Verschoor, Chengming Feng, Irina-Mona Epure, Thomas Abeel, Mathijs de Weerdt. *\"The Growing Strawberries Dataset: Tracking Multiple Objects with Biological Development over an Extended Period.\"* 2024 IEEE/CVF Winter Conference on Applications of Computer Vision (WACV), 2024. https://doi.org/10.1109/WACV57701.2024.00695"
   ]
  },
  {
   "cell_type": "code",
   "execution_count": null,
   "metadata": {},
   "outputs": [],
   "source": [
    "%run ../functions/color_feature_gen.py"
   ]
  },
  {
   "cell_type": "markdown",
   "metadata": {},
   "source": [
    "# Fit growth curves"
   ]
  },
  {
   "cell_type": "code",
   "execution_count": null,
   "metadata": {},
   "outputs": [],
   "source": [
    "from pathlib import Path\n",
    "import os\n",
    "import numpy as np\n",
    "import pandas as pd\n",
    "\n",
    "from scipy.optimize import curve_fit\n",
    "\n",
    "from gc_utils import *\n",
    "# from gc_params import *\n",
    "\n",
    "basePath = Path(os.getcwd()).parent"
   ]
  },
  {
   "cell_type": "code",
   "execution_count": null,
   "metadata": {},
   "outputs": [],
   "source": [
    "# set parameters\n",
    "smoother = 1e-7\n",
    "len_thre = 24\n",
    "a_thre = 5\n",
    "l_thre = 30\n",
    "\n",
    "smoothed_frames = 3"
   ]
  },
  {
   "cell_type": "code",
   "execution_count": null,
   "metadata": {},
   "outputs": [],
   "source": [
    "# load data\n",
    "for cam in [1,3,5]:\n",
    "    camera = f'RGBCAM{cam}'\n",
    "    color_feature = np.load(os.path.join(basePath, f'example_data/color_feature{cam}.npy'))\n",
    "\n",
    "    items_to_check = []\n",
    "    saved_coefs_sigmoid = []\n",
    "\n",
    "    for obj_id in np.unique(color_feature[:,1]):\n",
    "        obj_cr = color_feature[color_feature[:,1]==obj_id]\n",
    "        obj_a = obj_cr[:,20]\n",
    "        if (obj_a[:smoothed_frames]).mean()<0 and (obj_a[-smoothed_frames:]).mean()>a_thre:\n",
    "            arr = color_feature[(color_feature[:,1]==obj_id)&(color_feature[:,19]>l_thre)]\n",
    "            if len(arr)>len_thre:\n",
    "                param_bounds = ([-np.inf, -np.inf, arr[0,0]/1000, -np.inf], [np.inf, np.inf, arr[-1,0]/1000, np.inf])\n",
    "                try:\n",
    "                    popt, pcov = curve_fit(sigmoid, arr[:,0]/1000, arr[:,20], method='trf', maxfev=3000,bounds=param_bounds) #can be switched to \"richard\"\n",
    "                    y_pred = sigmoid(arr[:,0]/1000, *popt)\n",
    "                    saved_coefs_sigmoid.append([obj_id, arr[0,0], arr[-1,0]]+list(popt)+[y_pred[-1]-y_pred[0], mse(arr[:,20],y_pred), mse_smoothed(arr[:,20],y_pred)])\n",
    "                except RuntimeError:\n",
    "                    items_to_check.append(obj_id)\n",
    "\n",
    "    df = pd.DataFrame(saved_coefs_sigmoid)\n",
    "    df.columns = ['obj_id','frame_0','frame_-1','A', 'B', 'M', 'C', 'pred_diff','pred_err','pred_err_s']\n",
    "    df.to_csv(f'sigmoid_analysis_2021c{cam}.csv')"
   ]
  }
 ],
 "metadata": {
  "kernelspec": {
   "display_name": "deeplearning",
   "language": "python",
   "name": "python3"
  },
  "language_info": {
   "codemirror_mode": {
    "name": "ipython",
    "version": 3
   },
   "file_extension": ".py",
   "mimetype": "text/x-python",
   "name": "python",
   "nbconvert_exporter": "python",
   "pygments_lexer": "ipython3",
   "version": "3.8.13"
  }
 },
 "nbformat": 4,
 "nbformat_minor": 2
}
